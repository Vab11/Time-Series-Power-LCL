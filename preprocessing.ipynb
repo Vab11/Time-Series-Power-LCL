{
 "cells": [
  {
   "cell_type": "markdown",
   "metadata": {},
   "source": [
    "# Data Preprocessing\n",
    "- Clearing of redundant columns\n",
    "- As mentioned in the problem statement that we have to perform an analysis on the hourly data hence we have to resample it.\n",
    "- The processed file is ultimately stored in a different csv file"
   ]
  },
  {
   "cell_type": "code",
   "execution_count": 28,
   "metadata": {},
   "outputs": [],
   "source": [
    "#Importing Standard Libraries\n",
    "\n",
    "import numpy as np\n",
    "import pandas as pd"
   ]
  },
  {
   "cell_type": "code",
   "execution_count": 37,
   "metadata": {},
   "outputs": [],
   "source": [
    "#Reading the provided dataset\n",
    "df = pd.read_csv(\"Power-Networks-LCL.csv\")"
   ]
  },
  {
   "cell_type": "code",
   "execution_count": 38,
   "metadata": {},
   "outputs": [
    {
     "data": {
      "text/html": [
       "<div>\n",
       "<style scoped>\n",
       "    .dataframe tbody tr th:only-of-type {\n",
       "        vertical-align: middle;\n",
       "    }\n",
       "\n",
       "    .dataframe tbody tr th {\n",
       "        vertical-align: top;\n",
       "    }\n",
       "\n",
       "    .dataframe thead th {\n",
       "        text-align: right;\n",
       "    }\n",
       "</style>\n",
       "<table border=\"1\" class=\"dataframe\">\n",
       "  <thead>\n",
       "    <tr style=\"text-align: right;\">\n",
       "      <th></th>\n",
       "      <th>LCLid</th>\n",
       "      <th>stdorToU</th>\n",
       "      <th>DateTime</th>\n",
       "      <th>KWh</th>\n",
       "      <th>Acorn</th>\n",
       "      <th>Acorn_grouped</th>\n",
       "    </tr>\n",
       "  </thead>\n",
       "  <tbody>\n",
       "    <tr>\n",
       "      <th>0</th>\n",
       "      <td>MAC000002</td>\n",
       "      <td>Std</td>\n",
       "      <td>2012-10-12 00:30:00.0000000</td>\n",
       "      <td>0.0</td>\n",
       "      <td>ACORN-A</td>\n",
       "      <td>Affluent</td>\n",
       "    </tr>\n",
       "    <tr>\n",
       "      <th>1</th>\n",
       "      <td>MAC000002</td>\n",
       "      <td>Std</td>\n",
       "      <td>2012-10-12 01:00:00.0000000</td>\n",
       "      <td>0.0</td>\n",
       "      <td>ACORN-A</td>\n",
       "      <td>Affluent</td>\n",
       "    </tr>\n",
       "    <tr>\n",
       "      <th>2</th>\n",
       "      <td>MAC000002</td>\n",
       "      <td>Std</td>\n",
       "      <td>2012-10-12 01:30:00.0000000</td>\n",
       "      <td>0.0</td>\n",
       "      <td>ACORN-A</td>\n",
       "      <td>Affluent</td>\n",
       "    </tr>\n",
       "    <tr>\n",
       "      <th>3</th>\n",
       "      <td>MAC000002</td>\n",
       "      <td>Std</td>\n",
       "      <td>2012-10-12 02:00:00.0000000</td>\n",
       "      <td>0.0</td>\n",
       "      <td>ACORN-A</td>\n",
       "      <td>Affluent</td>\n",
       "    </tr>\n",
       "    <tr>\n",
       "      <th>4</th>\n",
       "      <td>MAC000002</td>\n",
       "      <td>Std</td>\n",
       "      <td>2012-10-12 02:30:00.0000000</td>\n",
       "      <td>0.0</td>\n",
       "      <td>ACORN-A</td>\n",
       "      <td>Affluent</td>\n",
       "    </tr>\n",
       "  </tbody>\n",
       "</table>\n",
       "</div>"
      ],
      "text/plain": [
       "       LCLid stdorToU                     DateTime  KWh    Acorn Acorn_grouped\n",
       "0  MAC000002      Std  2012-10-12 00:30:00.0000000  0.0  ACORN-A      Affluent\n",
       "1  MAC000002      Std  2012-10-12 01:00:00.0000000  0.0  ACORN-A      Affluent\n",
       "2  MAC000002      Std  2012-10-12 01:30:00.0000000  0.0  ACORN-A      Affluent\n",
       "3  MAC000002      Std  2012-10-12 02:00:00.0000000  0.0  ACORN-A      Affluent\n",
       "4  MAC000002      Std  2012-10-12 02:30:00.0000000  0.0  ACORN-A      Affluent"
      ]
     },
     "execution_count": 38,
     "metadata": {},
     "output_type": "execute_result"
    }
   ],
   "source": [
    "df.head()"
   ]
  },
  {
   "cell_type": "code",
   "execution_count": 39,
   "metadata": {},
   "outputs": [
    {
     "data": {
      "text/html": [
       "<div>\n",
       "<style scoped>\n",
       "    .dataframe tbody tr th:only-of-type {\n",
       "        vertical-align: middle;\n",
       "    }\n",
       "\n",
       "    .dataframe tbody tr th {\n",
       "        vertical-align: top;\n",
       "    }\n",
       "\n",
       "    .dataframe thead th {\n",
       "        text-align: right;\n",
       "    }\n",
       "</style>\n",
       "<table border=\"1\" class=\"dataframe\">\n",
       "  <thead>\n",
       "    <tr style=\"text-align: right;\">\n",
       "      <th></th>\n",
       "      <th>KWh</th>\n",
       "    </tr>\n",
       "  </thead>\n",
       "  <tbody>\n",
       "    <tr>\n",
       "      <th>count</th>\n",
       "      <td>999971.000000</td>\n",
       "    </tr>\n",
       "    <tr>\n",
       "      <th>mean</th>\n",
       "      <td>0.239580</td>\n",
       "    </tr>\n",
       "    <tr>\n",
       "      <th>std</th>\n",
       "      <td>0.387533</td>\n",
       "    </tr>\n",
       "    <tr>\n",
       "      <th>min</th>\n",
       "      <td>0.000000</td>\n",
       "    </tr>\n",
       "    <tr>\n",
       "      <th>25%</th>\n",
       "      <td>0.060000</td>\n",
       "    </tr>\n",
       "    <tr>\n",
       "      <th>50%</th>\n",
       "      <td>0.129000</td>\n",
       "    </tr>\n",
       "    <tr>\n",
       "      <th>75%</th>\n",
       "      <td>0.255000</td>\n",
       "    </tr>\n",
       "    <tr>\n",
       "      <th>max</th>\n",
       "      <td>6.528000</td>\n",
       "    </tr>\n",
       "  </tbody>\n",
       "</table>\n",
       "</div>"
      ],
      "text/plain": [
       "                 KWh\n",
       "count  999971.000000\n",
       "mean        0.239580\n",
       "std         0.387533\n",
       "min         0.000000\n",
       "25%         0.060000\n",
       "50%         0.129000\n",
       "75%         0.255000\n",
       "max         6.528000"
      ]
     },
     "execution_count": 39,
     "metadata": {},
     "output_type": "execute_result"
    }
   ],
   "source": [
    "df.describe()"
   ]
  },
  {
   "cell_type": "markdown",
   "metadata": {},
   "source": [
    "#### The dataset is well structured and there are no NaN values."
   ]
  },
  {
   "cell_type": "code",
   "execution_count": 40,
   "metadata": {},
   "outputs": [],
   "source": [
    "df['DateTime'] = pd.to_datetime(df['DateTime'])"
   ]
  },
  {
   "cell_type": "code",
   "execution_count": 41,
   "metadata": {},
   "outputs": [
    {
     "data": {
      "text/plain": [
       "array(['ACORN-A', 'ACORN-P', 'ACORN-E', 'ACORN-Q', 'ACORN-H', 'ACORN-L',\n",
       "       'ACORN-N', 'ACORN-K', 'ACORN-J', 'ACORN-U', 'ACORN-D'],\n",
       "      dtype=object)"
      ]
     },
     "execution_count": 41,
     "metadata": {},
     "output_type": "execute_result"
    }
   ],
   "source": [
    "df['Acorn'].unique()"
   ]
  },
  {
   "cell_type": "code",
   "execution_count": 8,
   "metadata": {},
   "outputs": [
    {
     "data": {
      "text/plain": [
       "array(['Affluent', 'Adversity', 'Comfortable', 'ACORN-U'], dtype=object)"
      ]
     },
     "execution_count": 8,
     "metadata": {},
     "output_type": "execute_result"
    }
   ],
   "source": [
    "df['Acorn_grouped'].unique()"
   ]
  },
  {
   "cell_type": "markdown",
   "metadata": {},
   "source": [
    "### 11 distinct acorn groups and 4 distinct types"
   ]
  },
  {
   "cell_type": "code",
   "execution_count": 9,
   "metadata": {},
   "outputs": [],
   "source": [
    "#drop stdorToU because all readings have the same value\n",
    "df = df.drop('stdorToU', axis = 1)"
   ]
  },
  {
   "cell_type": "code",
   "execution_count": 16,
   "metadata": {},
   "outputs": [
    {
     "name": "stdout",
     "output_type": "stream",
     "text": [
      "Reading counts of MAC000002 24157\n",
      "Reading counts of MAC000003 35468\n",
      "Reading counts of MAC000004 31676\n",
      "Reading counts of MAC000006 36460\n",
      "Reading counts of MAC000007 25045\n",
      "Reading counts of MAC000008 26012\n",
      "Reading counts of MAC000009 25237\n",
      "Reading counts of MAC000010 25048\n",
      "Reading counts of MAC000011 23704\n",
      "Reading counts of MAC000012 24669\n",
      "Reading counts of MAC000013 29613\n",
      "Reading counts of MAC000016 19523\n",
      "Reading counts of MAC000018 39081\n",
      "Reading counts of MAC000019 39070\n",
      "Reading counts of MAC000020 39078\n",
      "Reading counts of MAC000021 39078\n",
      "Reading counts of MAC000022 39071\n",
      "Reading counts of MAC000023 39068\n",
      "Reading counts of MAC000024 39026\n",
      "Reading counts of MAC000025 39064\n",
      "Reading counts of MAC000026 39064\n",
      "Reading counts of MAC000027 39068\n",
      "Reading counts of MAC000028 32157\n",
      "Reading counts of MAC000029 39063\n",
      "Reading counts of MAC000030 39066\n",
      "Reading counts of MAC000032 39068\n",
      "Reading counts of MAC000033 39070\n",
      "Reading counts of MAC000034 39069\n",
      "Reading counts of MAC000035 39023\n",
      "Reading counts of MAC000036 16175\n"
     ]
    }
   ],
   "source": [
    "l = df['LCLid'].unique()\n",
    "d = {}\n",
    "for i in l:\n",
    "    d[i] = (df['LCLid'][df['LCLid'] == i].count())\n",
    "    print(\"Reading counts of \" + i, d[i])"
   ]
  },
  {
   "cell_type": "markdown",
   "metadata": {},
   "source": [
    "### MAC000018, MAC000020, MA000021 are the households with the maximum number of readings\n",
    "#### MAC000018 belongs to Acorn Affluent\n",
    "#### MAC000020 belongs to Acorn Comfortable\n",
    "#### MAC000021 belongs to Acorn Affluent"
   ]
  },
  {
   "cell_type": "code",
   "execution_count": 42,
   "metadata": {},
   "outputs": [],
   "source": [
    "df_18 = df[df['LCLid'] == 'MAC000018']\n",
    "df_20 = df[df['LCLid'] == 'MAC000020']\n",
    "df_21 = df[df['LCLid'] == 'MAC000021']"
   ]
  },
  {
   "cell_type": "code",
   "execution_count": 43,
   "metadata": {},
   "outputs": [],
   "source": [
    "df2 = pd.merge(df_18, df_20, on = 'DateTime')"
   ]
  },
  {
   "cell_type": "code",
   "execution_count": 44,
   "metadata": {},
   "outputs": [],
   "source": [
    "df2 = pd.merge(df2, df_21, on = 'DateTime')"
   ]
  },
  {
   "cell_type": "code",
   "execution_count": 45,
   "metadata": {},
   "outputs": [],
   "source": [
    "df2 = df2.rename(columns = {'KWh_x' : 'KWh_18', 'KWh_y' : 'KWh_20', 'KWh' : 'KWh_21', 'Acorn_x' : 'Acorn_18', 'Acorn_y' : 'Acorn_20', 'Acorn' : 'Acorn_21', 'Acorn_grouped' : 'Acorn_grouped_21', 'Acorn_grouped_x' : 'Acorn_grouped_18', 'Acorn_grouped_y' : 'Acorn_grouped_20'})"
   ]
  },
  {
   "cell_type": "code",
   "execution_count": 46,
   "metadata": {},
   "outputs": [],
   "source": [
    "#LCLid column is now redundant for obvious reasons\n",
    "df2 = df2.drop(['LCLid_x', 'LCLid_y', 'LCLid'], axis = 1)"
   ]
  },
  {
   "cell_type": "code",
   "execution_count": 47,
   "metadata": {},
   "outputs": [],
   "source": [
    "df2.to_csv(\"processed_2.csv\")"
   ]
  },
  {
   "cell_type": "code",
   "execution_count": 48,
   "metadata": {},
   "outputs": [
    {
     "data": {
      "text/html": [
       "<div>\n",
       "<style scoped>\n",
       "    .dataframe tbody tr th:only-of-type {\n",
       "        vertical-align: middle;\n",
       "    }\n",
       "\n",
       "    .dataframe tbody tr th {\n",
       "        vertical-align: top;\n",
       "    }\n",
       "\n",
       "    .dataframe thead th {\n",
       "        text-align: right;\n",
       "    }\n",
       "</style>\n",
       "<table border=\"1\" class=\"dataframe\">\n",
       "  <thead>\n",
       "    <tr style=\"text-align: right;\">\n",
       "      <th></th>\n",
       "      <th>stdorToU_x</th>\n",
       "      <th>DateTime</th>\n",
       "      <th>KWh_18</th>\n",
       "      <th>Acorn_18</th>\n",
       "      <th>Acorn_grouped_18</th>\n",
       "      <th>stdorToU_y</th>\n",
       "      <th>KWh_20</th>\n",
       "      <th>Acorn_20</th>\n",
       "      <th>Acorn_grouped_20</th>\n",
       "      <th>stdorToU</th>\n",
       "      <th>KWh_21</th>\n",
       "      <th>Acorn_21</th>\n",
       "      <th>Acorn_grouped_21</th>\n",
       "    </tr>\n",
       "  </thead>\n",
       "  <tbody>\n",
       "    <tr>\n",
       "      <th>0</th>\n",
       "      <td>Std</td>\n",
       "      <td>2011-12-07 10:00:00</td>\n",
       "      <td>0.200</td>\n",
       "      <td>ACORN-E</td>\n",
       "      <td>Affluent</td>\n",
       "      <td>Std</td>\n",
       "      <td>0.231</td>\n",
       "      <td>ACORN-J</td>\n",
       "      <td>Comfortable</td>\n",
       "      <td>Std</td>\n",
       "      <td>0.491</td>\n",
       "      <td>ACORN-E</td>\n",
       "      <td>Affluent</td>\n",
       "    </tr>\n",
       "    <tr>\n",
       "      <th>1</th>\n",
       "      <td>Std</td>\n",
       "      <td>2011-12-07 10:30:00</td>\n",
       "      <td>0.218</td>\n",
       "      <td>ACORN-E</td>\n",
       "      <td>Affluent</td>\n",
       "      <td>Std</td>\n",
       "      <td>0.204</td>\n",
       "      <td>ACORN-J</td>\n",
       "      <td>Comfortable</td>\n",
       "      <td>Std</td>\n",
       "      <td>0.346</td>\n",
       "      <td>ACORN-E</td>\n",
       "      <td>Affluent</td>\n",
       "    </tr>\n",
       "    <tr>\n",
       "      <th>2</th>\n",
       "      <td>Std</td>\n",
       "      <td>2011-12-07 11:00:00</td>\n",
       "      <td>0.209</td>\n",
       "      <td>ACORN-E</td>\n",
       "      <td>Affluent</td>\n",
       "      <td>Std</td>\n",
       "      <td>0.194</td>\n",
       "      <td>ACORN-J</td>\n",
       "      <td>Comfortable</td>\n",
       "      <td>Std</td>\n",
       "      <td>0.473</td>\n",
       "      <td>ACORN-E</td>\n",
       "      <td>Affluent</td>\n",
       "    </tr>\n",
       "    <tr>\n",
       "      <th>3</th>\n",
       "      <td>Std</td>\n",
       "      <td>2011-12-07 11:30:00</td>\n",
       "      <td>0.210</td>\n",
       "      <td>ACORN-E</td>\n",
       "      <td>Affluent</td>\n",
       "      <td>Std</td>\n",
       "      <td>0.317</td>\n",
       "      <td>ACORN-J</td>\n",
       "      <td>Comfortable</td>\n",
       "      <td>Std</td>\n",
       "      <td>0.456</td>\n",
       "      <td>ACORN-E</td>\n",
       "      <td>Affluent</td>\n",
       "    </tr>\n",
       "    <tr>\n",
       "      <th>4</th>\n",
       "      <td>Std</td>\n",
       "      <td>2011-12-07 12:00:00</td>\n",
       "      <td>0.238</td>\n",
       "      <td>ACORN-E</td>\n",
       "      <td>Affluent</td>\n",
       "      <td>Std</td>\n",
       "      <td>0.163</td>\n",
       "      <td>ACORN-J</td>\n",
       "      <td>Comfortable</td>\n",
       "      <td>Std</td>\n",
       "      <td>0.432</td>\n",
       "      <td>ACORN-E</td>\n",
       "      <td>Affluent</td>\n",
       "    </tr>\n",
       "  </tbody>\n",
       "</table>\n",
       "</div>"
      ],
      "text/plain": [
       "  stdorToU_x            DateTime  KWh_18 Acorn_18 Acorn_grouped_18 stdorToU_y  \\\n",
       "0        Std 2011-12-07 10:00:00   0.200  ACORN-E         Affluent        Std   \n",
       "1        Std 2011-12-07 10:30:00   0.218  ACORN-E         Affluent        Std   \n",
       "2        Std 2011-12-07 11:00:00   0.209  ACORN-E         Affluent        Std   \n",
       "3        Std 2011-12-07 11:30:00   0.210  ACORN-E         Affluent        Std   \n",
       "4        Std 2011-12-07 12:00:00   0.238  ACORN-E         Affluent        Std   \n",
       "\n",
       "   KWh_20 Acorn_20 Acorn_grouped_20 stdorToU  KWh_21 Acorn_21 Acorn_grouped_21  \n",
       "0   0.231  ACORN-J      Comfortable      Std   0.491  ACORN-E         Affluent  \n",
       "1   0.204  ACORN-J      Comfortable      Std   0.346  ACORN-E         Affluent  \n",
       "2   0.194  ACORN-J      Comfortable      Std   0.473  ACORN-E         Affluent  \n",
       "3   0.317  ACORN-J      Comfortable      Std   0.456  ACORN-E         Affluent  \n",
       "4   0.163  ACORN-J      Comfortable      Std   0.432  ACORN-E         Affluent  "
      ]
     },
     "execution_count": 48,
     "metadata": {},
     "output_type": "execute_result"
    }
   ],
   "source": [
    "df2.head()"
   ]
  }
 ],
 "metadata": {
  "kernelspec": {
   "display_name": "Python 3",
   "language": "python",
   "name": "python3"
  },
  "language_info": {
   "codemirror_mode": {
    "name": "ipython",
    "version": 3
   },
   "file_extension": ".py",
   "mimetype": "text/x-python",
   "name": "python",
   "nbconvert_exporter": "python",
   "pygments_lexer": "ipython3",
   "version": "3.7.3"
  }
 },
 "nbformat": 4,
 "nbformat_minor": 4
}
